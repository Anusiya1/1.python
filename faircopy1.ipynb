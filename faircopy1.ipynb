{
 "cells": [
  {
   "cell_type": "code",
   "execution_count": 5,
   "id": "a00049d4-358c-4d68-a2ba-a2a8a91b5c8e",
   "metadata": {},
   "outputs": [],
   "source": [
    "from  multipleFunctions1 import Functions\n",
    "#from fileName import className"
   ]
  },
  {
   "cell_type": "code",
   "execution_count": 6,
   "id": "caef3998-e8b6-473f-96c4-c65251874bd6",
   "metadata": {},
   "outputs": [
    {
     "name": "stdin",
     "output_type": "stream",
     "text": [
      "Enter the BMI: 45\n"
     ]
    },
    {
     "name": "stdout",
     "output_type": "stream",
     "text": [
      "very over weight\n"
     ]
    }
   ],
   "source": [
    "Functions.BMI()"
   ]
  },
  {
   "cell_type": "code",
   "execution_count": 7,
   "id": "223d8e40-d121-41d2-b2df-adbdd91d3eb7",
   "metadata": {},
   "outputs": [
    {
     "name": "stdin",
     "output_type": "stream",
     "text": [
      "Enter the Gender: male\n",
      "Enter the Age: 18\n"
     ]
    },
    {
     "name": "stdout",
     "output_type": "stream",
     "text": [
      " ELIGIBLE\n"
     ]
    }
   ],
   "source": [
    "Functions.AgeCategory()"
   ]
  },
  {
   "cell_type": "code",
   "execution_count": 8,
   "id": "a8afdbdf-61eb-4629-89a2-c83ddbbc1887",
   "metadata": {},
   "outputs": [
    {
     "name": "stdin",
     "output_type": "stream",
     "text": [
      "Enter a number: 4\n"
     ]
    },
    {
     "name": "stdout",
     "output_type": "stream",
     "text": [
      "4 is Even number\n"
     ]
    },
    {
     "data": {
      "text/plain": [
       "(4, 'is Even number')"
      ]
     },
     "execution_count": 8,
     "metadata": {},
     "output_type": "execute_result"
    }
   ],
   "source": [
    "Functions.OddEven()"
   ]
  },
  {
   "cell_type": "code",
   "execution_count": 9,
   "id": "a6858c3e-17d4-41ca-b42c-2439f9860932",
   "metadata": {},
   "outputs": [
    {
     "name": "stdin",
     "output_type": "stream",
     "text": [
      "Perameter of Triangle: 52\n"
     ]
    },
    {
     "data": {
      "text/plain": [
       "52"
      ]
     },
     "execution_count": 9,
     "metadata": {},
     "output_type": "execute_result"
    }
   ],
   "source": [
    "Functions.PerameterofTriangle()"
   ]
  },
  {
   "cell_type": "code",
   "execution_count": 10,
   "id": "3cef14e2-49ec-4b84-a881-0daf84ff59f9",
   "metadata": {},
   "outputs": [
    {
     "data": {
      "text/plain": [
       "40"
      ]
     },
     "execution_count": 10,
     "metadata": {},
     "output_type": "execute_result"
    }
   ],
   "source": [
    "Functions.addition(10,20,10)"
   ]
  },
  {
   "cell_type": "code",
   "execution_count": 11,
   "id": "41657633-69ff-4f4a-b21b-51139f1b354c",
   "metadata": {},
   "outputs": [
    {
     "name": "stdin",
     "output_type": "stream",
     "text": [
      "Enter the Totel: 148\n"
     ]
    },
    {
     "name": "stdout",
     "output_type": "stream",
     "text": [
      "29.599999999999998\n"
     ]
    }
   ],
   "source": [
    "Functions.percentage()"
   ]
  },
  {
   "cell_type": "code",
   "execution_count": null,
   "id": "e10aaad5-58ca-419d-a867-b44a37dfa998",
   "metadata": {},
   "outputs": [],
   "source": []
  }
 ],
 "metadata": {
  "kernelspec": {
   "display_name": "Python 3 (ipykernel)",
   "language": "python",
   "name": "python3"
  },
  "language_info": {
   "codemirror_mode": {
    "name": "ipython",
    "version": 3
   },
   "file_extension": ".py",
   "mimetype": "text/x-python",
   "name": "python",
   "nbconvert_exporter": "python",
   "pygments_lexer": "ipython3",
   "version": "3.12.7"
  }
 },
 "nbformat": 4,
 "nbformat_minor": 5
}

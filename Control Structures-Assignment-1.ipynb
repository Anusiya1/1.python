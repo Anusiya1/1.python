{
 "cells": [
  {
   "cell_type": "code",
   "execution_count": 1,
   "id": "d7fc7b17-dcb0-4bc5-8aa6-f3ab7bf18695",
   "metadata": {},
   "outputs": [
    {
     "name": "stdout",
     "output_type": "stream",
     "text": [
      "Welcome to Assignment-1\n"
     ]
    }
   ],
   "source": [
    "#print()\n",
    "print(\"Welcome to Assignment-1\")"
   ]
  },
  {
   "cell_type": "code",
   "execution_count": 2,
   "id": "eb8d3d72-dc4d-4ba1-bdc1-e36afa549d13",
   "metadata": {},
   "outputs": [],
   "source": [
    "#Variable&Assignment Operater"
   ]
  },
  {
   "cell_type": "code",
   "execution_count": 3,
   "id": "d45a8393-b044-4ce6-89d7-d4f3ffc29bb4",
   "metadata": {},
   "outputs": [
    {
     "name": "stdout",
     "output_type": "stream",
     "text": [
      "40\n"
     ]
    }
   ],
   "source": [
    "num1=10\n",
    "num2=30\n",
    "add=num1+num2\n",
    "print(add)"
   ]
  },
  {
   "cell_type": "markdown",
   "id": "869fa4a7-44d1-431e-928f-686f85bf0f68",
   "metadata": {},
   "source": [
    "num3=20\n",
    "num4=40\n",
    "add=60"
   ]
  },
  {
   "cell_type": "code",
   "execution_count": 4,
   "id": "e5d2aaf1-5469-4c7c-bfe1-1360e976790d",
   "metadata": {},
   "outputs": [
    {
     "name": "stdout",
     "output_type": "stream",
     "text": [
      "60\n"
     ]
    }
   ],
   "source": [
    "num3=20\n",
    "num4=40\n",
    "add=num3+num4\n",
    "print(add)"
   ]
  },
  {
   "cell_type": "code",
   "execution_count": 5,
   "id": "78f8c3f8-7812-4bad-a1c9-fb7c0f25072b",
   "metadata": {},
   "outputs": [],
   "source": [
    "#Body Mass Index"
   ]
  },
  {
   "cell_type": "markdown",
   "id": "5393c806-4e6d-4cec-a906-118e8e0380d9",
   "metadata": {},
   "source": [
    "Enter the BMI Index:34\n",
    "Very Overweight"
   ]
  },
  {
   "cell_type": "code",
   "execution_count": 6,
   "id": "48c3b7ff-960a-4b8f-af7a-490dae26d165",
   "metadata": {},
   "outputs": [
    {
     "name": "stdout",
     "output_type": "stream",
     "text": [
      "\n"
     ]
    }
   ],
   "source": [
    "if():\n",
    "    print()\n",
    "elif():\n",
    "    print()\n",
    "elif():\n",
    "    print()\n",
    "else:\n",
    "    print()"
   ]
  },
  {
   "cell_type": "markdown",
   "id": "8b25f604-037b-49dc-aaf6-150b14e06884",
   "metadata": {},
   "source": [
    "BMI<18.5-->underweight\n",
    "BMI<25-->normal\n",
    "BMI<30-->over weight\n",
    "BMI<34-->very over weight"
   ]
  },
  {
   "cell_type": "code",
   "execution_count": 7,
   "id": "3800e5d4-e8b9-44e4-9582-8d9a041d8a5e",
   "metadata": {},
   "outputs": [
    {
     "name": "stdin",
     "output_type": "stream",
     "text": [
      "Enter the BMI: 45\n"
     ]
    }
   ],
   "source": [
    "BMI=int(input(\"Enter the BMI:\"))"
   ]
  },
  {
   "cell_type": "code",
   "execution_count": 8,
   "id": "3988902b-edad-4bad-bab3-e94cd7de90b7",
   "metadata": {},
   "outputs": [
    {
     "name": "stdout",
     "output_type": "stream",
     "text": [
      "very over weight\n"
     ]
    }
   ],
   "source": [
    "if(BMI<18.5):\n",
    "    print(\"underweight\")\n",
    "elif(BMI<25):\n",
    "    print(\"nomal\")\n",
    "elif(BMI<30):\n",
    "    print(\"over weight\")\n",
    "else:\n",
    "    print(\"very over weight\")\n"
   ]
  },
  {
   "cell_type": "code",
   "execution_count": null,
   "id": "e2895301-3951-47ca-ac66-167a1a2340ff",
   "metadata": {},
   "outputs": [],
   "source": []
  }
 ],
 "metadata": {
  "kernelspec": {
   "display_name": "Python 3 (ipykernel)",
   "language": "python",
   "name": "python3"
  },
  "language_info": {
   "codemirror_mode": {
    "name": "ipython",
    "version": 3
   },
   "file_extension": ".py",
   "mimetype": "text/x-python",
   "name": "python",
   "nbconvert_exporter": "python",
   "pygments_lexer": "ipython3",
   "version": "3.12.7"
  }
 },
 "nbformat": 4,
 "nbformat_minor": 5
}

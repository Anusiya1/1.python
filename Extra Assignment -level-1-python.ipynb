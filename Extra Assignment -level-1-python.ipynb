{
 "cells": [
  {
   "cell_type": "code",
   "execution_count": 1,
   "id": "c0c49036-109d-4899-a52d-309ac4d5dddd",
   "metadata": {},
   "outputs": [],
   "source": [
    "#print Statement"
   ]
  },
  {
   "cell_type": "code",
   "execution_count": 2,
   "id": "30de39ac-e7cb-4da4-9c6c-69c404ee7993",
   "metadata": {},
   "outputs": [
    {
     "name": "stdout",
     "output_type": "stream",
     "text": [
      "HOPE AI\n"
     ]
    }
   ],
   "source": [
    "print(\"HOPE AI\")"
   ]
  },
  {
   "cell_type": "code",
   "execution_count": 3,
   "id": "a2b31d8c-9fba-4149-bbfc-466f0ec3967c",
   "metadata": {},
   "outputs": [],
   "source": [
    "#Buy input"
   ]
  },
  {
   "cell_type": "code",
   "execution_count": 4,
   "id": "5db6188a-c708-4464-a635-a9c3823d6e16",
   "metadata": {},
   "outputs": [],
   "source": [
    "if():\n",
    "    print()"
   ]
  },
  {
   "cell_type": "code",
   "execution_count": 5,
   "id": "be070873-0a93-402b-add9-bce43ac6ab30",
   "metadata": {},
   "outputs": [
    {
     "name": "stdout",
     "output_type": "stream",
     "text": [
      "HOPE AI\n"
     ]
    }
   ],
   "source": [
    "if (\"Enter your institute name\"):\n",
    "    print(\"HOPE AI\")"
   ]
  },
  {
   "cell_type": "code",
   "execution_count": 6,
   "id": "d616d5cb-6152-46d3-b939-adfb9ab44d8a",
   "metadata": {},
   "outputs": [],
   "source": [
    "#Buy inputs"
   ]
  },
  {
   "cell_type": "markdown",
   "id": "8e969ff3-182e-4954-83aa-fc3f5e470278",
   "metadata": {},
   "source": [
    "Enter your name:Raj\n",
    "Enter your age:15\n",
    "Enter your school name:Guru school\n",
    "Enter your degree:B.E CSE"
   ]
  },
  {
   "cell_type": "code",
   "execution_count": null,
   "id": "26332b20-858c-4c1c-9512-6f79a16d3b90",
   "metadata": {},
   "outputs": [],
   "source": []
  },
  {
   "cell_type": "code",
   "execution_count": null,
   "id": "bc09850b-6d0e-46cb-89f2-fd801bf2acd8",
   "metadata": {},
   "outputs": [],
   "source": [
    "#Addition"
   ]
  },
  {
   "cell_type": "code",
   "execution_count": 7,
   "id": "c9745aa8-c1bb-4dbc-a670-801f906f71c2",
   "metadata": {},
   "outputs": [],
   "source": [
    "a=43\n",
    "b=34\n",
    "add=77"
   ]
  },
  {
   "cell_type": "code",
   "execution_count": 8,
   "id": "cdb88154-cf34-4741-9a21-2a260ed90070",
   "metadata": {},
   "outputs": [
    {
     "name": "stdout",
     "output_type": "stream",
     "text": [
      "77\n"
     ]
    }
   ],
   "source": [
    "a=43\n",
    "b=34\n",
    "add=a+b\n",
    "print(add)"
   ]
  },
  {
   "cell_type": "code",
   "execution_count": null,
   "id": "68cb83cb-d1c3-4ea5-a3fe-36f9d589f1f3",
   "metadata": {},
   "outputs": [],
   "source": [
    "#Subtraction"
   ]
  },
  {
   "cell_type": "code",
   "execution_count": 9,
   "id": "a488fd6b-2530-445f-bee0-9c80f396ff64",
   "metadata": {},
   "outputs": [
    {
     "name": "stdout",
     "output_type": "stream",
     "text": [
      "9\n"
     ]
    }
   ],
   "source": [
    "a=43\n",
    "b=34\n",
    "sub=a-b\n",
    "print(sub)"
   ]
  },
  {
   "cell_type": "code",
   "execution_count": null,
   "id": "9203a96c-518d-45e9-b341-a2baed2efd00",
   "metadata": {},
   "outputs": [],
   "source": [
    "#Multiplication"
   ]
  },
  {
   "cell_type": "code",
   "execution_count": null,
   "id": "265b45b1-9728-4622-93b6-121043e0fe51",
   "metadata": {},
   "outputs": [],
   "source": [
    "a=63\n",
    "b=97\n",
    "mul=6111"
   ]
  },
  {
   "cell_type": "code",
   "execution_count": 10,
   "id": "ab8df947-118c-4803-a75c-00f23f02b2b2",
   "metadata": {},
   "outputs": [
    {
     "name": "stdout",
     "output_type": "stream",
     "text": [
      "6111\n"
     ]
    }
   ],
   "source": [
    "a=63\n",
    "b=97\n",
    "mul=a*b\n",
    "print(mul)\n"
   ]
  },
  {
   "cell_type": "code",
   "execution_count": null,
   "id": "7f7e4c05-9d11-44e1-9493-a8a497847851",
   "metadata": {},
   "outputs": [],
   "source": [
    "#Division"
   ]
  },
  {
   "cell_type": "markdown",
   "id": "74d0d463-288a-4744-9db6-684a04ab22cc",
   "metadata": {},
   "source": [
    "a=76\n",
    "b=31\n",
    "Div= 2.4516129032258065"
   ]
  },
  {
   "cell_type": "code",
   "execution_count": 11,
   "id": "d9827334-1f2b-4536-ba71-f507d3b855eb",
   "metadata": {},
   "outputs": [
    {
     "name": "stdout",
     "output_type": "stream",
     "text": [
      "2.4516129032258065\n"
     ]
    }
   ],
   "source": [
    "a=76\n",
    "b=31\n",
    "Div=a/b\n",
    "print(Div)"
   ]
  },
  {
   "cell_type": "code",
   "execution_count": null,
   "id": "62c6f9fc-db5d-44b7-adc8-e455ed7c9d8e",
   "metadata": {},
   "outputs": [],
   "source": [
    "#Floor division"
   ]
  },
  {
   "cell_type": "markdown",
   "id": "0fa60ff2-b5f3-4cb5-849a-f54d0902e066",
   "metadata": {},
   "source": [
    "a=76\n",
    "b=31\n",
    "Floor Div = 2"
   ]
  },
  {
   "cell_type": "code",
   "execution_count": 12,
   "id": "5dce89f2-4af5-49e5-8483-a38eecf21ece",
   "metadata": {},
   "outputs": [
    {
     "name": "stdout",
     "output_type": "stream",
     "text": [
      "2.4516129032258065\n"
     ]
    }
   ],
   "source": [
    "a=76\n",
    "b=31\n",
    "Floor_Div=a/b\n",
    "print(Floor_Div)"
   ]
  },
  {
   "cell_type": "code",
   "execution_count": null,
   "id": "97815891-0bd2-404b-9147-c40ef86484db",
   "metadata": {},
   "outputs": [],
   "source": [
    "#Modulo"
   ]
  },
  {
   "cell_type": "code",
   "execution_count": null,
   "id": "2d22a18c-aa73-4870-8a3a-d3eef9e531f4",
   "metadata": {},
   "outputs": [],
   "source": [
    "a=76\n",
    "b=31\n",
    "Modulo=14"
   ]
  },
  {
   "cell_type": "code",
   "execution_count": 13,
   "id": "e251fe31-e331-4ae6-9810-b9945ebc0820",
   "metadata": {},
   "outputs": [
    {
     "name": "stdout",
     "output_type": "stream",
     "text": [
      "14\n"
     ]
    }
   ],
   "source": [
    "#Modulo\n",
    "a=76\n",
    "b=31\n",
    "modulo=a%b\n",
    "print(modulo)\n",
    "        "
   ]
  },
  {
   "cell_type": "code",
   "execution_count": null,
   "id": "d488a8b6-2baa-4428-9558-99d3407ff280",
   "metadata": {},
   "outputs": [],
   "source": [
    "#Power"
   ]
  },
  {
   "cell_type": "markdown",
   "id": "ee155222-0633-480d-9045-861151a8e9e5",
   "metadata": {},
   "source": [
    "a=4\n",
    "b=4\n",
    "Power=256"
   ]
  },
  {
   "cell_type": "code",
   "execution_count": 14,
   "id": "15055d2f-3614-492a-9de6-5829328c29b6",
   "metadata": {},
   "outputs": [
    {
     "name": "stdout",
     "output_type": "stream",
     "text": [
      "256\n"
     ]
    }
   ],
   "source": [
    "#power\n",
    "a=4\n",
    "b=4\n",
    "power=a**b\n",
    "print(power)"
   ]
  },
  {
   "cell_type": "code",
   "execution_count": 14,
   "id": "533939a3-a542-480f-9dea-11c208518208",
   "metadata": {},
   "outputs": [
    {
     "name": "stdout",
     "output_type": "stream",
     "text": [
      "256\n"
     ]
    }
   ],
   "source": [
    "#power\n",
    "a=4\n",
    "b=4\n",
    "power=a**b\n",
    "print(power)"
   ]
  },
  {
   "cell_type": "code",
   "execution_count": 14,
   "id": "96d63dbc-5de0-4c15-8dcb-7664e20f6ae4",
   "metadata": {},
   "outputs": [
    {
     "name": "stdout",
     "output_type": "stream",
     "text": [
      "256\n"
     ]
    }
   ],
   "source": [
    "#power\n",
    "a=4\n",
    "b=4\n",
    "power=a**b\n",
    "print(power)"
   ]
  },
  {
   "cell_type": "code",
   "execution_count": 14,
   "id": "9fa5ecdc-b786-4556-bdc0-a699b92ad9da",
   "metadata": {},
   "outputs": [
    {
     "name": "stdout",
     "output_type": "stream",
     "text": [
      "256\n"
     ]
    }
   ],
   "source": [
    "#power\n",
    "a=4\n",
    "b=4\n",
    "power=a**b\n",
    "print(power)"
   ]
  },
  {
   "cell_type": "code",
   "execution_count": null,
   "id": "3452e898-91c8-4964-b834-85f16aeec8bd",
   "metadata": {},
   "outputs": [],
   "source": []
  }
 ],
 "metadata": {
  "kernelspec": {
   "display_name": "Python 3 (ipykernel)",
   "language": "python",
   "name": "python3"
  },
  "language_info": {
   "codemirror_mode": {
    "name": "ipython",
    "version": 3
   },
   "file_extension": ".py",
   "mimetype": "text/x-python",
   "name": "python",
   "nbconvert_exporter": "python",
   "pygments_lexer": "ipython3",
   "version": "3.12.7"
  }
 },
 "nbformat": 4,
 "nbformat_minor": 5
}

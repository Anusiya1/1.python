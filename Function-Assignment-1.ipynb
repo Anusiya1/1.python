{
 "cells": [
  {
   "cell_type": "code",
   "execution_count": null,
   "id": "9b64ec2a-e923-4e9a-99b9-d29a414cd920",
   "metadata": {},
   "outputs": [],
   "source": [
    "#Creat fuction"
   ]
  },
  {
   "cell_type": "code",
   "execution_count": 1,
   "id": "327423b7-cef1-4428-b2a8-8ccfb954c0fc",
   "metadata": {},
   "outputs": [],
   "source": [
    "lists=[\"Subfields in AI are:\",\"Machine_Learning\",\"Naural_Networks\",\"Vision\",\"Robotics\",\"Speech_Processing\",\"Natural_Language_Processing\"]"
   ]
  },
  {
   "cell_type": "code",
   "execution_count": 2,
   "id": "ffebf2c1-b42d-4d8e-80a3-d99964bbafe4",
   "metadata": {},
   "outputs": [
    {
     "name": "stdout",
     "output_type": "stream",
     "text": [
      "Subfields in AI are:\n",
      "Machine_Learning\n",
      "Naural_Networks\n",
      "Vision\n",
      "Robotics\n",
      "Speech_Processing\n",
      "Natural_Language_Processing\n"
     ]
    }
   ],
   "source": [
    "for temp in lists:\n",
    "    print(temp)"
   ]
  },
  {
   "cell_type": "code",
   "execution_count": 3,
   "id": "c28b3dec-d1f9-400a-9886-a30e21445b38",
   "metadata": {},
   "outputs": [],
   "source": [
    "def SubfieldsinAIare():\n",
    "   for temp in lists:\n",
    "    print(temp)"
   ]
  },
  {
   "cell_type": "code",
   "execution_count": 4,
   "id": "6300949f-1958-45ba-8865-e9d5d940e915",
   "metadata": {},
   "outputs": [
    {
     "name": "stdout",
     "output_type": "stream",
     "text": [
      "Subfields in AI are:\n",
      "Machine_Learning\n",
      "Naural_Networks\n",
      "Vision\n",
      "Robotics\n",
      "Speech_Processing\n",
      "Natural_Language_Processing\n"
     ]
    }
   ],
   "source": [
    "SubfieldsinAIare()"
   ]
  },
  {
   "cell_type": "code",
   "execution_count": null,
   "id": "09c83769-28a4-4986-93df-35667a198541",
   "metadata": {},
   "outputs": [],
   "source": [
    "#Create a function that checks whether the given number is odd or Even"
   ]
  },
  {
   "cell_type": "markdown",
   "id": "3418406d-1fcb-4f38-9936-51a62de082ae",
   "metadata": {},
   "source": [
    "Enter a number : 52452\n",
    "52452 is Even number"
   ]
  },
  {
   "cell_type": "code",
   "execution_count": 5,
   "id": "1736be2a-43ed-472d-9df2-8e99a2a4e6e5",
   "metadata": {},
   "outputs": [],
   "source": [
    "lists=[52452]"
   ]
  },
  {
   "cell_type": "code",
   "execution_count": 6,
   "id": "b676a9e4-a957-42e6-8a4c-9e44f12aee38",
   "metadata": {},
   "outputs": [
    {
     "name": "stdin",
     "output_type": "stream",
     "text": [
      "Enter the number: 52452\n"
     ]
    },
    {
     "name": "stdout",
     "output_type": "stream",
     "text": [
      "52452 is Even number\n"
     ]
    }
   ],
   "source": [
    " num=int(input(\"Enter the number:\"))\n",
    " for num in lists:\n",
    "    if((num%2)==52452):\n",
    "        print(num,\"is odd number\")\n",
    "    else:\n",
    "        print(num,\"is Even number\")"
   ]
  },
  {
   "cell_type": "code",
   "execution_count": 7,
   "id": "4b9766be-63f5-442a-bdb5-8d5ee7ecd68c",
   "metadata": {},
   "outputs": [],
   "source": [
    "def OddEven():\n",
    "    num=int(input(\"Enter the number:\"))\n",
    "\n",
    "    if((num%2)==52452):\n",
    "        print(num,\"is odd number\")\n",
    "        message=num,\"is odd number\"\n",
    "    else:\n",
    "        print(num,\"is Even number\")\n",
    "        message=num,\"is Even number\"\n",
    "    return message"
   ]
  },
  {
   "cell_type": "code",
   "execution_count": 8,
   "id": "c0b0ec37-92e8-4756-8d85-a5920d569ca8",
   "metadata": {},
   "outputs": [
    {
     "name": "stdin",
     "output_type": "stream",
     "text": [
      "Enter the number: 2\n"
     ]
    },
    {
     "name": "stdout",
     "output_type": "stream",
     "text": [
      "2 is Even number\n"
     ]
    }
   ],
   "source": [
    "message=OddEven()"
   ]
  },
  {
   "cell_type": "code",
   "execution_count": 9,
   "id": "3eced842-8c4f-41e6-9b9b-c4812cba8c41",
   "metadata": {},
   "outputs": [
    {
     "name": "stdout",
     "output_type": "stream",
     "text": [
      "The given number is Even\n"
     ]
    }
   ],
   "source": [
    "if(message==\"Even number\"):\n",
    "    print(\"The give number is Odd\")\n",
    "else:\n",
    "    print(\"The given number is Even\")"
   ]
  },
  {
   "cell_type": "code",
   "execution_count": null,
   "id": "cdbcd96c-d5a8-413f-a6c2-6d0f32edf895",
   "metadata": {},
   "outputs": [],
   "source": [
    "#Create fuction"
   ]
  },
  {
   "cell_type": "markdown",
   "id": "528094be-9022-468c-8ea5-3842bfacf156",
   "metadata": {},
   "source": [
    "OddEven()"
   ]
  },
  {
   "cell_type": "markdown",
   "id": "96ba091c-00b9-4385-b15f-ab7af1c41c95",
   "metadata": {},
   "source": [
    "Enter a number:4\n",
    "4 is Even number"
   ]
  },
  {
   "cell_type": "code",
   "execution_count": 10,
   "id": "af4db18f-2788-4cb2-b655-364f4dda3f74",
   "metadata": {},
   "outputs": [
    {
     "name": "stdin",
     "output_type": "stream",
     "text": [
      "Enter a number: 4\n"
     ]
    },
    {
     "name": "stdout",
     "output_type": "stream",
     "text": [
      "4 is Even number\n"
     ]
    }
   ],
   "source": [
    "num=int(input(\"Enter a number:\"))\n",
    "if((num%2)==4):\n",
    "    print(num,\"is Odd number\")\n",
    "else:\n",
    "    print(num,\"is Even number\")\n"
   ]
  },
  {
   "cell_type": "code",
   "execution_count": 11,
   "id": "781a6dc9-3e4c-468a-b759-382a0bac82bb",
   "metadata": {},
   "outputs": [],
   "source": [
    "def OddEven():\n",
    "    num=int(input(\"Enter a number:\"))\n",
    "    if((num%2)==4):\n",
    "       print(num,\"is Odd number\")\n",
    "       message=num,\"is Odd number\"\n",
    "    else:\n",
    "       print(num,\"is Even number\")\n",
    "       message=num,\"is Even number\"\n",
    "    return message"
   ]
  },
  {
   "cell_type": "code",
   "execution_count": 12,
   "id": "6d3cc50a-cba2-4f35-961e-d031551056fb",
   "metadata": {},
   "outputs": [
    {
     "name": "stdin",
     "output_type": "stream",
     "text": [
      "Enter a number: 2\n"
     ]
    },
    {
     "name": "stdout",
     "output_type": "stream",
     "text": [
      "2 is Even number\n"
     ]
    }
   ],
   "source": [
    "message=OddEven()"
   ]
  },
  {
   "cell_type": "code",
   "execution_count": null,
   "id": "14aeaad2-4484-4ebc-b184-515a8ee1f9e0",
   "metadata": {},
   "outputs": [],
   "source": [
    "#Create a function that tells elegibility of marrige for male and female according to their age limit like 21 for male and 18 for female"
   ]
  },
  {
   "cell_type": "markdown",
   "id": "77e85953-5632-4365-a11c-64221f381227",
   "metadata": {},
   "source": [
    "Elegibility for marrige.Elegible()"
   ]
  },
  {
   "cell_type": "markdown",
   "id": "430bb28e-f8d3-4131-9c82-b7130c534a6b",
   "metadata": {},
   "source": [
    "your Gender:Male\n",
    "your Age:20\n",
    "NOT ELIGIBLE"
   ]
  },
  {
   "cell_type": "code",
   "execution_count": 13,
   "id": "06751e70-6b2d-4702-8556-c66fb856aedf",
   "metadata": {},
   "outputs": [],
   "source": [
    "lists=[17,10,]"
   ]
  },
  {
   "cell_type": "code",
   "execution_count": 14,
   "id": "4f97ab6e-0b63-4041-bf14-3d970d1e4cf4",
   "metadata": {},
   "outputs": [
    {
     "name": "stdout",
     "output_type": "stream",
     "text": [
      "17\n",
      "10\n"
     ]
    }
   ],
   "source": [
    "for age in lists:\n",
    "    print(age)"
   ]
  },
  {
   "cell_type": "code",
   "execution_count": 15,
   "id": "79d41468-e83c-4822-9e26-35aabcc11e70",
   "metadata": {},
   "outputs": [
    {
     "name": "stdout",
     "output_type": "stream",
     "text": [
      "NOT ELIGIBLE\n",
      "NOT ELIGIBLE\n"
     ]
    }
   ],
   "source": [
    "for age in lists:\n",
    "    if(\"male\" and age<21):\n",
    "         print(\"NOT ELIGIBLE\")\n",
    "    elif(\"female\" and age<18):\n",
    "         print(\"NOT ELIGIBLE\")\n",
    "    else:\n",
    "         print(\"ELIGIBLE\")\n",
    "  "
   ]
  },
  {
   "cell_type": "code",
   "execution_count": 16,
   "id": "5a83739d-fc73-44d0-ac53-1576d632fb17",
   "metadata": {},
   "outputs": [],
   "source": [
    "def AgeCategory():\n",
    "       if(\"male\" and age<21):\n",
    "           print(\"NOT ELIGIBLE\")\n",
    "       elif(\"female\" and age<18):\n",
    "           print(\"NOT ELIGIBLE\")\n",
    "       else:\n",
    "           print(\"ELIGIBLE\")"
   ]
  },
  {
   "cell_type": "code",
   "execution_count": 17,
   "id": "fc9857fc-12e1-45e1-ac4d-dcffb7416398",
   "metadata": {},
   "outputs": [
    {
     "name": "stdout",
     "output_type": "stream",
     "text": [
      "NOT ELIGIBLE\n"
     ]
    }
   ],
   "source": [
    "AgeCategory()"
   ]
  },
  {
   "cell_type": "code",
   "execution_count": 18,
   "id": "7cf5e6b7-27a0-438e-908d-7ea93c59958a",
   "metadata": {},
   "outputs": [],
   "source": [
    "def AgeCategory():\n",
    "       if(\"male\" and age<21):\n",
    "           print(\"NOT ELIGIBLE\")\n",
    "           cate=\"NOT ELIGIBLE\"\n",
    "       elif(\"female\" and age<18):\n",
    "           cate=\"NOT ELIGIBLE\"\n",
    "           print(\"NOT ELIGIBLE\")\n",
    "       else:\n",
    "           print(\"ELIGIBLE\")\n",
    "           cate=\"ELIGIBLE\"\n",
    "        "
   ]
  },
  {
   "cell_type": "code",
   "execution_count": 19,
   "id": "a2124d63-2987-4586-8ba9-48b8d9e50517",
   "metadata": {},
   "outputs": [
    {
     "name": "stdin",
     "output_type": "stream",
     "text": [
      "Enter the Age: 20\n"
     ]
    },
    {
     "name": "stdout",
     "output_type": "stream",
     "text": [
      "NOT ELIGIBLE\n"
     ]
    }
   ],
   "source": [
    "age=int(input(\"Enter the Age:\"))\n",
    "agecate=AgeCategory()"
   ]
  },
  {
   "cell_type": "code",
   "execution_count": 20,
   "id": "bb7ce7e3-6c45-4999-aab7-11d17c0c88fa",
   "metadata": {},
   "outputs": [
    {
     "name": "stdout",
     "output_type": "stream",
     "text": [
      "None\n"
     ]
    }
   ],
   "source": [
    "print(agecate)"
   ]
  },
  {
   "cell_type": "code",
   "execution_count": 21,
   "id": "596cb603-147d-4290-9b71-145a3a5edfdf",
   "metadata": {},
   "outputs": [],
   "source": [
    "def malefemale():\n",
    "       if(\"male\" and age<21):\n",
    "           print(\"male\")\n",
    "           message=\"male\"\n",
    "       elif(\"female\" and age<18):\n",
    "           print(\"female\")\n",
    "           message=\"female\"\n",
    "       else:\n",
    "           print(\"children\")\n",
    "           message=\"children\"\n",
    "       return message"
   ]
  },
  {
   "cell_type": "code",
   "execution_count": 22,
   "id": "0df6894a-71d7-4109-a6f2-f7db8069485c",
   "metadata": {},
   "outputs": [
    {
     "name": "stdout",
     "output_type": "stream",
     "text": [
      "male\n"
     ]
    }
   ],
   "source": [
    "Gender= malefemale()"
   ]
  },
  {
   "cell_type": "code",
   "execution_count": 23,
   "id": "2f95b9c9-17d7-4002-804d-66ba08cdbdc1",
   "metadata": {},
   "outputs": [],
   "source": [
    "#Calculate the percentage of your 10th mark"
   ]
  },
  {
   "cell_type": "markdown",
   "id": "28213291-077a-41bc-9f44-8b756496e3b0",
   "metadata": {},
   "source": [
    "Percent.percentage()"
   ]
  },
  {
   "cell_type": "markdown",
   "id": "c946ba77-3ff1-425f-b1ae-d367fc778f5c",
   "metadata": {},
   "source": [
    "Subjuct1=98\n",
    "Subjuct2=87\n",
    "Subjuct3=95\n",
    "Subjuct4=95\n",
    "Subjuct5=93\n",
    "Totel:468\n",
    "Percentage:93.60000000000001"
   ]
  },
  {
   "cell_type": "code",
   "execution_count": 24,
   "id": "4dc0323e-e50f-405b-b8f5-1b0f3e234f81",
   "metadata": {},
   "outputs": [],
   "source": [
    "lists=[\"subjuct1=98\",\"subjuct2=87\",\"subjuct=95\",\"subjuct=95\",\"subjuct=93\"]"
   ]
  },
  {
   "cell_type": "code",
   "execution_count": 25,
   "id": "d46aff48-46d0-4ce2-a6fa-73bbc7e39750",
   "metadata": {},
   "outputs": [
    {
     "name": "stdout",
     "output_type": "stream",
     "text": [
      "subjuct1=98\n",
      "subjuct2=87\n",
      "subjuct=95\n",
      "subjuct=95\n",
      "subjuct=93\n"
     ]
    }
   ],
   "source": [
    "for temb in lists:\n",
    "    print(temb)"
   ]
  },
  {
   "cell_type": "code",
   "execution_count": 26,
   "id": "b645479c-6d77-446d-8fb9-fd5345e2ecdf",
   "metadata": {},
   "outputs": [],
   "source": [
    "#Addition"
   ]
  },
  {
   "cell_type": "code",
   "execution_count": 27,
   "id": "358aaf1e-796a-47dd-a9c8-780c7f852a6f",
   "metadata": {},
   "outputs": [
    {
     "name": "stdout",
     "output_type": "stream",
     "text": [
      "468\n"
     ]
    }
   ],
   "source": [
    "a=98\n",
    "b=87\n",
    "c=95\n",
    "d=95\n",
    "e=93\n",
    "add=a+b+c+d+e\n",
    "print(add)"
   ]
  },
  {
   "cell_type": "code",
   "execution_count": 28,
   "id": "6c877c4e-fb31-45f2-95b8-12071100f893",
   "metadata": {},
   "outputs": [
    {
     "name": "stdin",
     "output_type": "stream",
     "text": [
      "Enter the Totel: 468\n"
     ]
    },
    {
     "name": "stdout",
     "output_type": "stream",
     "text": [
      "93.60000000000001\n"
     ]
    }
   ],
   "source": [
    "num=int(input(\"Enter the Totel:\"))\n",
    "a=add\n",
    "b=500\n",
    "division=add/500*100\n",
    "print(division)"
   ]
  },
  {
   "cell_type": "code",
   "execution_count": 29,
   "id": "0e3cb595-1830-4290-9005-36d4d943fd9a",
   "metadata": {},
   "outputs": [],
   "source": [
    "def percentage():    \n",
    "    a=add\n",
    "    b=500\n",
    "    division=add/500*100\n",
    "    print(division)"
   ]
  },
  {
   "cell_type": "code",
   "execution_count": 30,
   "id": "9bb40461-5cae-4a49-a5ae-44a24784eeb4",
   "metadata": {},
   "outputs": [
    {
     "name": "stdout",
     "output_type": "stream",
     "text": [
      "93.60000000000001\n"
     ]
    }
   ],
   "source": [
    "percentage()"
   ]
  },
  {
   "cell_type": "code",
   "execution_count": 31,
   "id": "83940332-0bb9-4c49-9c36-7983c64f8186",
   "metadata": {},
   "outputs": [],
   "source": [
    "#create function"
   ]
  },
  {
   "cell_type": "markdown",
   "id": "a8686f7c-4c3e-42bc-a4d5-f046ccb6540a",
   "metadata": {},
   "source": [
    "percentage()"
   ]
  },
  {
   "cell_type": "markdown",
   "id": "adac00a0-ba1b-4362-a981-6ef0e0008cbb",
   "metadata": {},
   "source": [
    "Subjuct1=23\n",
    "Subjuct2=45\n",
    "Subjuct3=34\n",
    "Subjuct4=23\n",
    "Subjuct5=23\n",
    "Totel:148\n",
    "Percentage:29.5999999999999998"
   ]
  },
  {
   "cell_type": "code",
   "execution_count": null,
   "id": "eadb86d7-bdaf-4b3f-8c2b-3c7ed73841a7",
   "metadata": {},
   "outputs": [],
   "source": [
    "#Addition"
   ]
  },
  {
   "cell_type": "code",
   "execution_count": 32,
   "id": "09df959a-7787-484e-9e5d-805a3c7125b6",
   "metadata": {},
   "outputs": [
    {
     "name": "stdout",
     "output_type": "stream",
     "text": [
      "148\n"
     ]
    }
   ],
   "source": [
    "Sub1=23\n",
    "Sub2=45\n",
    "Sub3=34\n",
    "Sub4=23\n",
    "Sub5=23\n",
    "add=Sub1+Sub2+Sub3+Sub4+Sub5\n",
    "print(add)"
   ]
  },
  {
   "cell_type": "code",
   "execution_count": 33,
   "id": "5badcff3-9363-4ab0-bb75-c4023e06b063",
   "metadata": {},
   "outputs": [
    {
     "name": "stdin",
     "output_type": "stream",
     "text": [
      "Enter the Totel: 148\n"
     ]
    },
    {
     "name": "stdout",
     "output_type": "stream",
     "text": [
      "29.599999999999998\n"
     ]
    }
   ],
   "source": [
    "num=int(input(\"Enter the Totel:\"))\n",
    "Sub1=add\n",
    "Sub2=500\n",
    "Division=add/500*100\n",
    "print(Division)"
   ]
  },
  {
   "cell_type": "code",
   "execution_count": 34,
   "id": "51ddd425-6773-4b72-8cd8-b57ecccb803e",
   "metadata": {},
   "outputs": [],
   "source": [
    "def Percentage():\n",
    "    Sub1=add\n",
    "    Sub2=500\n",
    "    Division=add/500*100\n",
    "    print(Division)"
   ]
  },
  {
   "cell_type": "code",
   "execution_count": 35,
   "id": "faa92f16-3b7f-4917-be3a-19ea3a53dda1",
   "metadata": {},
   "outputs": [
    {
     "name": "stdout",
     "output_type": "stream",
     "text": [
      "29.599999999999998\n"
     ]
    }
   ],
   "source": [
    "Percentage()"
   ]
  },
  {
   "cell_type": "code",
   "execution_count": null,
   "id": "ed381a6c-2b64-4852-a62b-f3022c84f98c",
   "metadata": {},
   "outputs": [],
   "source": [
    "#create function"
   ]
  },
  {
   "cell_type": "markdown",
   "id": "1e568440-3108-446a-9a31-331690db0687",
   "metadata": {},
   "source": [
    "Elegible()"
   ]
  },
  {
   "cell_type": "markdown",
   "id": "5d1216b8-dfac-4594-9e32-1f928d647e46",
   "metadata": {},
   "source": [
    "Your Gender:Male\n",
    "Your Age :18\n",
    "NOT ELIGIBLE"
   ]
  },
  {
   "cell_type": "code",
   "execution_count": 36,
   "id": "ebc1dfb4-4a5e-43ef-b9ef-186322539dc5",
   "metadata": {},
   "outputs": [],
   "source": [
    "lists=[17,20,25]"
   ]
  },
  {
   "cell_type": "code",
   "execution_count": 37,
   "id": "97a8d6b3-d235-4057-a0a9-2522b3487a96",
   "metadata": {},
   "outputs": [
    {
     "name": "stdout",
     "output_type": "stream",
     "text": [
      "17\n",
      "20\n",
      "25\n"
     ]
    }
   ],
   "source": [
    "for age in lists:\n",
    "    print(age)"
   ]
  },
  {
   "cell_type": "code",
   "execution_count": 38,
   "id": "091de488-cf98-49a7-ae96-70cbd15b8b50",
   "metadata": {},
   "outputs": [
    {
     "name": "stdin",
     "output_type": "stream",
     "text": [
      "Enter the age: 15\n"
     ]
    },
    {
     "name": "stdout",
     "output_type": "stream",
     "text": [
      "NOT ELIGIBLE\n"
     ]
    }
   ],
   "source": [
    "    num=int(input(\"Enter the age:\"))\n",
    "    if(\"male\"and age>18):\n",
    "        print(\"NOT ELIGIBLE\")\n",
    "    elif(\"female\" and age>21):\n",
    "        print(\"NOT ELIGIBLE\")\n",
    "    else:\n",
    "        print(\"ELIGIBLE\")"
   ]
  },
  {
   "cell_type": "code",
   "execution_count": 39,
   "id": "5d478f1f-bbd5-4b8b-8f4c-0a97bfc80db4",
   "metadata": {},
   "outputs": [],
   "source": [
    "def AgeCategory():\n",
    "     if(\"male\"and age>18):\n",
    "        print(\"NOT ELIGIBLE\")\n",
    "     elif(\"female\" and age>21):\n",
    "        print(\"NOT ELIGIBLE\")\n",
    "     else:\n",
    "        print(\"ELIGIBLE\")"
   ]
  },
  {
   "cell_type": "code",
   "execution_count": 40,
   "id": "bfb19724-a3fe-454b-864d-aa400bdc235c",
   "metadata": {},
   "outputs": [
    {
     "name": "stdout",
     "output_type": "stream",
     "text": [
      "NOT ELIGIBLE\n"
     ]
    }
   ],
   "source": [
    "AgeCategory()"
   ]
  },
  {
   "cell_type": "code",
   "execution_count": 41,
   "id": "c3f716e4-57c1-4b6d-a82c-4c0ec371d9c2",
   "metadata": {},
   "outputs": [],
   "source": [
    "def AgeCategory():\n",
    "    if(\"male\"and age>18):\n",
    "        print(\"NOT ELIGIBLE\")\n",
    "        Cate=\"NOT ELIGIBLE\"\n",
    "    elif(\"female\" and age>21):\n",
    "        print(\"NOT ELIGIBLE\")\n",
    "        Cate=\"NOT ELIGIBLE\"\n",
    "    else:\n",
    "        print(\"ELIGIBLE\")\n",
    "        Cate=\"ELIGIBLE\""
   ]
  },
  {
   "cell_type": "code",
   "execution_count": 42,
   "id": "644e664c-15f7-425d-b761-506e3e83f147",
   "metadata": {},
   "outputs": [
    {
     "name": "stdin",
     "output_type": "stream",
     "text": [
      "Enter the age: 15\n"
     ]
    },
    {
     "name": "stdout",
     "output_type": "stream",
     "text": [
      "NOT ELIGIBLE\n"
     ]
    }
   ],
   "source": [
    "num=int(input(\"Enter the age:\"))\n",
    "ageCate=AgeCategory()"
   ]
  },
  {
   "cell_type": "code",
   "execution_count": 43,
   "id": "07377fef-1f4d-4d3b-a9b3-93be4fe5f7c2",
   "metadata": {},
   "outputs": [
    {
     "name": "stdout",
     "output_type": "stream",
     "text": [
      "None\n"
     ]
    }
   ],
   "source": [
    "print(ageCate)"
   ]
  },
  {
   "cell_type": "code",
   "execution_count": 44,
   "id": "f582ee38-c4b2-477a-808b-cd462a991872",
   "metadata": {},
   "outputs": [],
   "source": [
    "def malefemle():\n",
    "    if(\"male\"and age>18):\n",
    "        print(\"male\")\n",
    "        message=\"male\"\n",
    "    elif(\"female\" and age>21):\n",
    "        print(\"female\")\n",
    "        message=\"female\"\n",
    "    else:\n",
    "        print(\"children\")\n",
    "        message=\"children\"\n",
    "    return message"
   ]
  },
  {
   "cell_type": "code",
   "execution_count": 45,
   "id": "6d46624e-141b-4645-aa7e-6a2a40a7ed90",
   "metadata": {},
   "outputs": [
    {
     "name": "stdout",
     "output_type": "stream",
     "text": [
      "male\n"
     ]
    }
   ],
   "source": [
    "Gender=malefemle()"
   ]
  },
  {
   "cell_type": "code",
   "execution_count": null,
   "id": "96a2a13f-60d4-4b0f-a586-5f543b61a9f0",
   "metadata": {},
   "outputs": [],
   "source": [
    "#create funtion"
   ]
  },
  {
   "cell_type": "markdown",
   "id": "fe00090f-5074-4f9e-b29e-22e3a904a92b",
   "metadata": {},
   "source": [
    "triangle()"
   ]
  },
  {
   "cell_type": "markdown",
   "id": "a8c47488-3760-4f94-8e35-69c7b40b3fc2",
   "metadata": {},
   "source": [
    "Height:3\n",
    "Breadth:4\n",
    "Area formula:(Height*Breadth)/2\n",
    "Area of Triangle:6.0\n",
    "Height1:3\n",
    "Height2:4\n",
    "Breadth:45\n",
    "Perameter formula:Height1+Height2+Breadth\n",
    "Perameter of Triangle:52"
   ]
  },
  {
   "cell_type": "code",
   "execution_count": 46,
   "id": "5646331c-91b3-4bce-98be-a67743be291e",
   "metadata": {},
   "outputs": [],
   "source": [
    "lists=[\"Height:3\",\"Breadth:4\"]"
   ]
  },
  {
   "cell_type": "code",
   "execution_count": 47,
   "id": "aba93933-f139-46a4-a8a6-e043b45d16e4",
   "metadata": {},
   "outputs": [
    {
     "name": "stdout",
     "output_type": "stream",
     "text": [
      "Height:3\n",
      "Breadth:4\n"
     ]
    }
   ],
   "source": [
    "for Areaformula in lists:\n",
    "    print(Areaformula )"
   ]
  },
  {
   "cell_type": "code",
   "execution_count": 48,
   "id": "249c3f53-2462-4d88-879b-91c5b0779566",
   "metadata": {},
   "outputs": [
    {
     "name": "stdout",
     "output_type": "stream",
     "text": [
      "Area of Triangle: 6.0\n"
     ]
    }
   ],
   "source": [
    "Areaformula=(3*4)/2\n",
    "print(\"Area of Triangle:\",Areaformula)"
   ]
  },
  {
   "cell_type": "code",
   "execution_count": 49,
   "id": "882da474-bc89-43e4-92c3-bcd4e5b21d92",
   "metadata": {},
   "outputs": [],
   "source": [
    "lists=[\"Height1:3\",\"Height2:4\",\"Breadth:45\"]"
   ]
  },
  {
   "cell_type": "code",
   "execution_count": 50,
   "id": "e1b706c0-1fc2-4ea2-8d12-9458ed015884",
   "metadata": {},
   "outputs": [
    {
     "name": "stdout",
     "output_type": "stream",
     "text": [
      "Height1:3\n",
      "Height2:4\n",
      "Breadth:45\n"
     ]
    }
   ],
   "source": [
    "for Perameterformula in lists:\n",
    "    print(Perameterformula)"
   ]
  },
  {
   "cell_type": "code",
   "execution_count": 51,
   "id": "782d60b2-6bac-46db-9419-afdce86b219c",
   "metadata": {},
   "outputs": [],
   "source": [
    "def addition(Height1,Height2,Breadth):\n",
    "    addition=(Height1+Height2+Breadth)\n",
    "    return addition"
   ]
  },
  {
   "cell_type": "code",
   "execution_count": 52,
   "id": "f004d217-0646-4fda-baeb-0dcb693d07eb",
   "metadata": {},
   "outputs": [
    {
     "data": {
      "text/plain": [
       "52"
      ]
     },
     "execution_count": 52,
     "metadata": {},
     "output_type": "execute_result"
    }
   ],
   "source": [
    "addition(3,4,45)"
   ]
  },
  {
   "cell_type": "code",
   "execution_count": 53,
   "id": "5ed5a3d2-4901-4b3c-b076-9ce2c2df8bfa",
   "metadata": {},
   "outputs": [],
   "source": [
    "def PerameterofTriangle():\n",
    "    num=int(input(\"Perameter of Triangle:\"))\n",
    "    addition=3+4+45\n",
    "    return addition"
   ]
  },
  {
   "cell_type": "code",
   "execution_count": 54,
   "id": "c4df11a6-51ef-4a66-915d-8997355c488a",
   "metadata": {},
   "outputs": [
    {
     "name": "stdin",
     "output_type": "stream",
     "text": [
      "Perameter of Triangle: 52\n"
     ]
    },
    {
     "data": {
      "text/plain": [
       "52"
      ]
     },
     "execution_count": 54,
     "metadata": {},
     "output_type": "execute_result"
    }
   ],
   "source": [
    "PerameterofTriangle()"
   ]
  },
  {
   "cell_type": "code",
   "execution_count": null,
   "id": "c9d5b8b3-6132-4dd4-b080-e21fa005d863",
   "metadata": {},
   "outputs": [],
   "source": [
    "#calculate the percentage of your 10th mark"
   ]
  },
  {
   "cell_type": "markdown",
   "id": "887c7d10-7b1e-4420-b33f-1ffa123e77b5",
   "metadata": {},
   "source": [
    "subjuct1=98\n",
    "subjuct2=87\n",
    "subjuct3=95\n",
    "subjuct4=95\n",
    "subjuct5=93\n",
    "Totel:468\n",
    "Percentage:93.0000000000"
   ]
  },
  {
   "cell_type": "code",
   "execution_count": 55,
   "id": "59221822-14ca-4675-bb14-7671f6aec02f",
   "metadata": {},
   "outputs": [],
   "source": [
    "lists=[\"subjuct1=98\",\"subjuct2=87\",\"subjuct=95\",\"subjuct=95\",\"subjuct=93\"]"
   ]
  },
  {
   "cell_type": "code",
   "execution_count": 56,
   "id": "72303cfb-1ddf-498c-a2fd-e261b847f1cf",
   "metadata": {},
   "outputs": [
    {
     "name": "stdout",
     "output_type": "stream",
     "text": [
      "subjuct1=98\n",
      "subjuct2=87\n",
      "subjuct=95\n",
      "subjuct=95\n",
      "subjuct=93\n"
     ]
    }
   ],
   "source": [
    "for temb in lists:\n",
    "    print(temb)"
   ]
  },
  {
   "cell_type": "code",
   "execution_count": null,
   "id": "64a3cfba-7f44-4651-b80f-4894700eed7b",
   "metadata": {},
   "outputs": [],
   "source": [
    "#Addition"
   ]
  },
  {
   "cell_type": "code",
   "execution_count": 57,
   "id": "74e98d53-2e33-424f-9982-72ff76f37266",
   "metadata": {},
   "outputs": [
    {
     "name": "stdout",
     "output_type": "stream",
     "text": [
      "468\n"
     ]
    }
   ],
   "source": [
    "a=98\n",
    "b=87\n",
    "c=95\n",
    "d=95\n",
    "e=93\n",
    "add=a+b+c+d+e\n",
    "print(add)"
   ]
  },
  {
   "cell_type": "code",
   "execution_count": 58,
   "id": "acaa8479-6a14-484a-86ef-4f8f8c4d8027",
   "metadata": {},
   "outputs": [
    {
     "name": "stdin",
     "output_type": "stream",
     "text": [
      "Enter the Totel: 468\n"
     ]
    },
    {
     "name": "stdout",
     "output_type": "stream",
     "text": [
      "93.60000000000001\n"
     ]
    }
   ],
   "source": [
    "num=int(input(\"Enter the Totel:\"))\n",
    "a=add\n",
    "b=500\n",
    "division=add/500*100\n",
    "print(division)"
   ]
  },
  {
   "cell_type": "code",
   "execution_count": 59,
   "id": "e8c3bd8e-f434-426a-89d2-185d000f2520",
   "metadata": {},
   "outputs": [],
   "source": [
    "def percentage():    \n",
    "    a=add\n",
    "    b=500\n",
    "    division=add/500*100\n",
    "    print(division)"
   ]
  },
  {
   "cell_type": "code",
   "execution_count": 60,
   "id": "c473b126-5e1b-4050-8c0e-35a7e0278173",
   "metadata": {},
   "outputs": [
    {
     "name": "stdout",
     "output_type": "stream",
     "text": [
      "93.60000000000001\n"
     ]
    }
   ],
   "source": [
    "percentage()"
   ]
  },
  {
   "cell_type": "code",
   "execution_count": null,
   "id": "0ad7fe77-ad54-4980-ae5b-2a400edb0a47",
   "metadata": {},
   "outputs": [],
   "source": [
    "#create the function"
   ]
  },
  {
   "cell_type": "markdown",
   "id": "5b84ea92-51fd-4924-9e58-5c693390c664",
   "metadata": {},
   "source": [
    "Percentage()"
   ]
  },
  {
   "cell_type": "markdown",
   "id": "56d08480-e0b9-4288-aa3c-d5f0efb093db",
   "metadata": {},
   "source": [
    "Subjuct1=23\n",
    "Subjuct2=45\n",
    "Subjuct3=34\n",
    "Subjuct4=23\n",
    "Subjuct5=23\n",
    "Totel:148\n",
    "Percentage:29.5999999999999998"
   ]
  },
  {
   "cell_type": "code",
   "execution_count": null,
   "id": "e56d789c-aa79-4738-b249-7c26053d388d",
   "metadata": {},
   "outputs": [],
   "source": [
    "#Addition"
   ]
  },
  {
   "cell_type": "code",
   "execution_count": 61,
   "id": "1ea6bec8-d3a6-427f-90dd-0d58a2e33cf1",
   "metadata": {},
   "outputs": [
    {
     "name": "stdout",
     "output_type": "stream",
     "text": [
      "148\n"
     ]
    }
   ],
   "source": [
    "Sub1=23\n",
    "Sub2=45\n",
    "Sub3=34\n",
    "Sub4=23\n",
    "Sub5=23\n",
    "add=Sub1+Sub2+Sub3+Sub4+Sub5\n",
    "print(add)"
   ]
  },
  {
   "cell_type": "code",
   "execution_count": 62,
   "id": "f345bfc1-ea24-413e-a0c1-3181e88a8675",
   "metadata": {},
   "outputs": [
    {
     "name": "stdin",
     "output_type": "stream",
     "text": [
      "Enter the Totel: 148\n"
     ]
    },
    {
     "name": "stdout",
     "output_type": "stream",
     "text": [
      "29.599999999999998\n"
     ]
    }
   ],
   "source": [
    "num=int(input(\"Enter the Totel:\"))\n",
    "Sub1=add\n",
    "Sub2=500\n",
    "Division=add/500*100\n",
    "print(Division)"
   ]
  },
  {
   "cell_type": "code",
   "execution_count": 63,
   "id": "a3df7b26-5184-4873-a2c9-eeca2d0d69aa",
   "metadata": {},
   "outputs": [],
   "source": [
    "def Percentage():\n",
    "    Sub1=add\n",
    "    Sub2=500\n",
    "    Division=add/500*100\n",
    "    print(Division)"
   ]
  },
  {
   "cell_type": "code",
   "execution_count": 64,
   "id": "50ee8104-a2d4-41a9-a133-d2337296b095",
   "metadata": {},
   "outputs": [
    {
     "name": "stdout",
     "output_type": "stream",
     "text": [
      "29.599999999999998\n"
     ]
    }
   ],
   "source": [
    "Percentage()"
   ]
  },
  {
   "cell_type": "code",
   "execution_count": null,
   "id": "6cb864d4-d009-4c22-89cd-5dff99ccac62",
   "metadata": {},
   "outputs": [],
   "source": []
  }
 ],
 "metadata": {
  "kernelspec": {
   "display_name": "Python 3 (ipykernel)",
   "language": "python",
   "name": "python3"
  },
  "language_info": {
   "codemirror_mode": {
    "name": "ipython",
    "version": 3
   },
   "file_extension": ".py",
   "mimetype": "text/x-python",
   "name": "python",
   "nbconvert_exporter": "python",
   "pygments_lexer": "ipython3",
   "version": "3.12.7"
  }
 },
 "nbformat": 4,
 "nbformat_minor": 5
}

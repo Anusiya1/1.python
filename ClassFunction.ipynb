{
 "cells": [
  {
   "cell_type": "code",
   "execution_count": 1,
   "id": "59aa0e8d-1b9b-44c1-9d63-8056e62c0a93",
   "metadata": {},
   "outputs": [],
   "source": [
    "#Create a class and funtion,and list out the itemes in the list"
   ]
  },
  {
   "cell_type": "markdown",
   "id": "ab9676c7-2dc7-4805-9cee-9edb4f8a8bbc",
   "metadata": {},
   "source": [
    "SubfieldsInAI.Subfields()"
   ]
  },
  {
   "cell_type": "code",
   "execution_count": 2,
   "id": "c13d9976-3eda-4900-95d9-665b2dc656a2",
   "metadata": {},
   "outputs": [],
   "source": [
    "lists=[\"Subfields in AI are:\",\"Machine_Learning\",\"Naural_Networks\",\"Vision\",\"Robotics\",\"Speech_Processing\",\"Natural_Language_Processing\"]"
   ]
  },
  {
   "cell_type": "code",
   "execution_count": 3,
   "id": "6afec851-beba-4da5-9a14-6cafbabe7883",
   "metadata": {},
   "outputs": [
    {
     "name": "stdout",
     "output_type": "stream",
     "text": [
      "Subfields in AI are:\n",
      "Machine_Learning\n",
      "Naural_Networks\n",
      "Vision\n",
      "Robotics\n",
      "Speech_Processing\n",
      "Natural_Language_Processing\n"
     ]
    }
   ],
   "source": [
    "for temp in lists:\n",
    "    print(temp)"
   ]
  },
  {
   "cell_type": "code",
   "execution_count": 4,
   "id": "f8a7a7d1-f191-4c15-9770-ac34610da53c",
   "metadata": {},
   "outputs": [],
   "source": [
    "def SubfieldsinAIare():\n",
    "   for temp in lists:\n",
    "    print(temp)"
   ]
  },
  {
   "cell_type": "code",
   "execution_count": 5,
   "id": "eae8fca5-2520-46d3-afd3-815baa28e351",
   "metadata": {},
   "outputs": [
    {
     "name": "stdout",
     "output_type": "stream",
     "text": [
      "Subfields in AI are:\n",
      "Machine_Learning\n",
      "Naural_Networks\n",
      "Vision\n",
      "Robotics\n",
      "Speech_Processing\n",
      "Natural_Language_Processing\n"
     ]
    }
   ],
   "source": [
    "SubfieldsinAIare()"
   ]
  },
  {
   "cell_type": "code",
   "execution_count": 6,
   "id": "01b13f25-43ae-4d24-8e0a-8c24504aa238",
   "metadata": {},
   "outputs": [
    {
     "name": "stdout",
     "output_type": "stream",
     "text": [
      "Subfields in AI are:\n",
      "Machine_Learning\n",
      "Naural_Networks\n",
      "Vision\n",
      "Robotics\n",
      "Speech_Processing\n",
      "Natural_Language_Processing\n"
     ]
    }
   ],
   "source": [
    "mulitiplefuntion=SubfieldsinAIare()"
   ]
  },
  {
   "cell_type": "code",
   "execution_count": 7,
   "id": "474e646b-e755-4add-a98d-bff94fbeb24a",
   "metadata": {},
   "outputs": [],
   "source": [
    "#Create a function that checks whether the given number is odd or Even"
   ]
  },
  {
   "cell_type": "markdown",
   "id": "bf002426-5072-4339-9e5c-264ed984f699",
   "metadata": {},
   "source": [
    "Odd or Even number"
   ]
  },
  {
   "cell_type": "markdown",
   "id": "f90574a4-e685-4da1-9136-7fd4abbc9f01",
   "metadata": {},
   "source": [
    "Enter a number : 52452\n",
    "52452 is Even number"
   ]
  },
  {
   "cell_type": "code",
   "execution_count": 8,
   "id": "5daf5746-86c4-4f18-9b35-4017e4d5f451",
   "metadata": {},
   "outputs": [],
   "source": [
    "lists=[52452]"
   ]
  },
  {
   "cell_type": "code",
   "execution_count": 9,
   "id": "974be84b-79d2-430d-8d77-fe012ad6d684",
   "metadata": {},
   "outputs": [
    {
     "name": "stdin",
     "output_type": "stream",
     "text": [
      "Enter the number: 52452\n"
     ]
    },
    {
     "name": "stdout",
     "output_type": "stream",
     "text": [
      "52452 is Even number\n"
     ]
    }
   ],
   "source": [
    "num=int(input(\"Enter the number:\"))\n",
    "for num in lists:\n",
    "    if((num%2)==52452):\n",
    "        print(num,\"is odd number\")\n",
    "    else:\n",
    "        print(num,\"is Even number\")"
   ]
  },
  {
   "cell_type": "code",
   "execution_count": 10,
   "id": "565d6f59-21c0-4762-a28d-1f443fb6985f",
   "metadata": {},
   "outputs": [],
   "source": [
    "def OddEven():\n",
    "    num=int(input(\"Enter the number:\"))\n",
    "\n",
    "    if((num%2)==52452):\n",
    "        print(num,\"is odd number\")\n",
    "        message=num,\"is odd number\"\n",
    "    else:\n",
    "        print(num,\"is Even number\")\n",
    "        message=num,\"is Even number\"\n",
    "    return message"
   ]
  },
  {
   "cell_type": "code",
   "execution_count": 11,
   "id": "046f4109-72d4-490c-bfd1-8af191237e75",
   "metadata": {},
   "outputs": [
    {
     "name": "stdin",
     "output_type": "stream",
     "text": [
      "Enter the number: 2\n"
     ]
    },
    {
     "name": "stdout",
     "output_type": "stream",
     "text": [
      "2 is Even number\n"
     ]
    }
   ],
   "source": [
    "message=OddEven()"
   ]
  },
  {
   "cell_type": "code",
   "execution_count": 12,
   "id": "30759834-73d8-4ac5-a305-682983344b3f",
   "metadata": {},
   "outputs": [
    {
     "name": "stdout",
     "output_type": "stream",
     "text": [
      "The given number is Even\n"
     ]
    }
   ],
   "source": [
    "if(message==\"Even number\"):\n",
    "    print(\"The give number is Odd\")\n",
    "else:\n",
    "    print(\"The given number is Even\")"
   ]
  },
  {
   "cell_type": "code",
   "execution_count": 13,
   "id": "e84624fa-4f88-418c-bc86-9a736582b19a",
   "metadata": {},
   "outputs": [
    {
     "name": "stdin",
     "output_type": "stream",
     "text": [
      "Enter the number: 52452\n"
     ]
    },
    {
     "name": "stdout",
     "output_type": "stream",
     "text": [
      "52452 is Even number\n"
     ]
    }
   ],
   "source": [
    "OddEven.message=OddEven()"
   ]
  },
  {
   "cell_type": "code",
   "execution_count": 14,
   "id": "3b3bfa73-844d-454e-9763-783239b3343a",
   "metadata": {},
   "outputs": [
    {
     "name": "stdin",
     "output_type": "stream",
     "text": [
      "Enter the number: 52452\n"
     ]
    },
    {
     "name": "stdout",
     "output_type": "stream",
     "text": [
      "52452 is Even number\n"
     ]
    },
    {
     "data": {
      "text/plain": [
       "(52452, 'is Even number')"
      ]
     },
     "execution_count": 14,
     "metadata": {},
     "output_type": "execute_result"
    }
   ],
   "source": [
    "OddEven()"
   ]
  },
  {
   "cell_type": "code",
   "execution_count": 15,
   "id": "7e6985fe-68eb-452f-9d3a-594f34115aa4",
   "metadata": {},
   "outputs": [],
   "source": [
    "#Create a funtion that tells elegibility of marriage for male and female according to their age limit like 18  male and 21 for female"
   ]
  },
  {
   "cell_type": "markdown",
   "id": "d31ceffd-192a-4945-bfd5-cb76124d5090",
   "metadata": {},
   "source": [
    "EligiblityForMarriage.Eligible()"
   ]
  },
  {
   "cell_type": "markdown",
   "id": "9efabcfa-e437-48bd-b304-826c6c9e7c64",
   "metadata": {},
   "source": [
    "Your Gender:Male\n",
    "Your Age :18\n",
    "NOT ELIGIBLE"
   ]
  },
  {
   "cell_type": "code",
   "execution_count": 16,
   "id": "ef839778-fd27-45fd-a58c-f2713370be61",
   "metadata": {},
   "outputs": [],
   "source": [
    "lists=[17,20,25]"
   ]
  },
  {
   "cell_type": "code",
   "execution_count": 17,
   "id": "9bc9dc0b-7524-4be3-bd3a-411498e2098a",
   "metadata": {},
   "outputs": [
    {
     "name": "stdout",
     "output_type": "stream",
     "text": [
      "17\n",
      "20\n",
      "25\n"
     ]
    }
   ],
   "source": [
    "for age in lists:\n",
    "    print(age)"
   ]
  },
  {
   "cell_type": "code",
   "execution_count": 18,
   "id": "9a971f92-0b2c-4d8d-b5ea-f3435826b3d7",
   "metadata": {},
   "outputs": [
    {
     "name": "stdin",
     "output_type": "stream",
     "text": [
      "Enter the age: 15\n"
     ]
    },
    {
     "name": "stdout",
     "output_type": "stream",
     "text": [
      "NOT ELIGIBLE\n"
     ]
    }
   ],
   "source": [
    "    num=int(input(\"Enter the age:\"))\n",
    "    if(\"male\"and age>18):\n",
    "        print(\"NOT ELIGIBLE\")\n",
    "    elif(\"female\" and age>21):\n",
    "        print(\"NOT ELIGIBLE\")\n",
    "    else:\n",
    "        print(\"ELIGIBLE\")"
   ]
  },
  {
   "cell_type": "code",
   "execution_count": 19,
   "id": "7bf43b59-4cff-4756-9bf4-88d1faef9b2b",
   "metadata": {},
   "outputs": [],
   "source": [
    "def AgeCategory():\n",
    "     if(\"male\"and age>18):\n",
    "        print(\"NOT ELIGIBLE\")\n",
    "     elif(\"female\" and age>21):\n",
    "        print(\"NOT ELIGIBLE\")\n",
    "     else:\n",
    "        print(\"ELIGIBLE\")"
   ]
  },
  {
   "cell_type": "code",
   "execution_count": 20,
   "id": "d8137a92-b36f-4812-8f40-9aeaffd037f1",
   "metadata": {},
   "outputs": [
    {
     "name": "stdout",
     "output_type": "stream",
     "text": [
      "NOT ELIGIBLE\n"
     ]
    }
   ],
   "source": [
    "AgeCategory()"
   ]
  },
  {
   "cell_type": "code",
   "execution_count": 21,
   "id": "d6494d82-13e1-42e1-8569-3dcf22b6ab72",
   "metadata": {},
   "outputs": [],
   "source": [
    "def AgeCategory():\n",
    "    if(\"male\"and age>18):\n",
    "        print(\"NOT ELIGIBLE\")\n",
    "        Cate=\"NOT ELIGIBLE\"\n",
    "    elif(\"female\" and age>21):\n",
    "        print(\"NOT ELIGIBLE\")\n",
    "        Cate=\"NOT ELIGIBLE\"\n",
    "    else:\n",
    "        print(\"ELIGIBLE\")\n",
    "        Cate=\"ELIGIBLE\""
   ]
  },
  {
   "cell_type": "code",
   "execution_count": 22,
   "id": "fab211ed-b10c-487c-8952-8a7502f0f5b1",
   "metadata": {},
   "outputs": [
    {
     "name": "stdout",
     "output_type": "stream",
     "text": [
      "NOT ELIGIBLE\n"
     ]
    }
   ],
   "source": [
    "ageCate=AgeCategory()"
   ]
  },
  {
   "cell_type": "code",
   "execution_count": 23,
   "id": "036d749c-e4e8-4590-9b88-a8e5373cd155",
   "metadata": {},
   "outputs": [
    {
     "name": "stdout",
     "output_type": "stream",
     "text": [
      "None\n"
     ]
    }
   ],
   "source": [
    "print(ageCate)"
   ]
  },
  {
   "cell_type": "code",
   "execution_count": 24,
   "id": "c7912c72-1e36-4e2b-a560-f31fb978d755",
   "metadata": {},
   "outputs": [],
   "source": [
    "def malefemle():\n",
    "    if(\"male\"and age>18):\n",
    "        print(\"male\")\n",
    "        message=\"male\"\n",
    "    elif(\"female\" and age>21):\n",
    "        print(\"female\")\n",
    "        message=\"female\"\n",
    "    else:\n",
    "        print(\"children\")\n",
    "        message=\"children\"\n",
    "    return message\n",
    "    num=int(input(\"Enter the age:\"))\n",
    "    ageCate=AgeCategory()"
   ]
  },
  {
   "cell_type": "code",
   "execution_count": 25,
   "id": "265a27e2-9edd-4402-b7c6-1e8278410685",
   "metadata": {},
   "outputs": [
    {
     "name": "stdout",
     "output_type": "stream",
     "text": [
      "male\n"
     ]
    }
   ],
   "source": [
    "Gender=malefemle()"
   ]
  },
  {
   "cell_type": "code",
   "execution_count": 26,
   "id": "2c5a0f7b-7e3a-417d-a445-7271010cd79a",
   "metadata": {},
   "outputs": [
    {
     "name": "stdout",
     "output_type": "stream",
     "text": [
      "NOT ELIGIBLE\n"
     ]
    }
   ],
   "source": [
    "Gender=malefemle.ageCate=AgeCategory()"
   ]
  },
  {
   "cell_type": "code",
   "execution_count": 27,
   "id": "0e1473c0-b9c2-478e-a5bc-ff8b0e18fb40",
   "metadata": {},
   "outputs": [],
   "source": [
    "#calculate the percentage of your 10th mark"
   ]
  },
  {
   "cell_type": "markdown",
   "id": "27eaf628-3064-4ffd-8dd6-04e48805d446",
   "metadata": {},
   "source": [
    "subjuct1=98\n",
    "subjuct2=87\n",
    "subjuct3=95\n",
    "subjuct4=95\n",
    "subjuct5=93\n",
    "Totel:468\n",
    "Percentage:93.0000000000"
   ]
  },
  {
   "cell_type": "code",
   "execution_count": 28,
   "id": "72d2e19f-e4a5-486e-a030-6a002e7a19c2",
   "metadata": {},
   "outputs": [],
   "source": [
    "lists=[\"subjuct1=98\",\"subjuct2=87\",\"subjuct=95\",\"subjuct=95\",\"subjuct=93\"]"
   ]
  },
  {
   "cell_type": "code",
   "execution_count": 29,
   "id": "8a1a033b-7555-4eb4-a67d-08161baedf0e",
   "metadata": {},
   "outputs": [
    {
     "name": "stdout",
     "output_type": "stream",
     "text": [
      "subjuct1=98\n",
      "subjuct2=87\n",
      "subjuct=95\n",
      "subjuct=95\n",
      "subjuct=93\n"
     ]
    }
   ],
   "source": [
    "for temb in lists:\n",
    "    print(temb)"
   ]
  },
  {
   "cell_type": "code",
   "execution_count": 30,
   "id": "e452dc31-0990-4ab4-9e60-a7197cd52aca",
   "metadata": {},
   "outputs": [],
   "source": [
    "#Addition"
   ]
  },
  {
   "cell_type": "code",
   "execution_count": 31,
   "id": "7bf808f3-30e0-49bf-acbc-47142b7d2fa1",
   "metadata": {},
   "outputs": [
    {
     "name": "stdout",
     "output_type": "stream",
     "text": [
      "468\n"
     ]
    }
   ],
   "source": [
    "a=98\n",
    "b=87\n",
    "c=95\n",
    "d=95\n",
    "e=93\n",
    "add=a+b+c+d+e\n",
    "print(add)"
   ]
  },
  {
   "cell_type": "code",
   "execution_count": 32,
   "id": "00fa2b6c-7171-4db5-8b67-7f86e26441f8",
   "metadata": {},
   "outputs": [
    {
     "name": "stdin",
     "output_type": "stream",
     "text": [
      "Enter the Totel: 468\n"
     ]
    },
    {
     "name": "stdout",
     "output_type": "stream",
     "text": [
      "0.936\n"
     ]
    }
   ],
   "source": [
    "num=int(input(\"Enter the Totel:\"))\n",
    "a=add\n",
    "b=500\n",
    "division=add/500*1\n",
    "print(division)"
   ]
  },
  {
   "cell_type": "code",
   "execution_count": 33,
   "id": "b8e08f12-fe32-44bb-9f6d-b4755f850f2c",
   "metadata": {},
   "outputs": [],
   "source": [
    "def percentage():    \n",
    "    num=int(input(\"Enter the Totel:\"))\n",
    "    a=add\n",
    "    b=500\n",
    "    division=add/500*100\n",
    "    print(division)"
   ]
  },
  {
   "cell_type": "code",
   "execution_count": 34,
   "id": "0f8b2df7-2009-406c-be44-ae85fc6a53ac",
   "metadata": {},
   "outputs": [
    {
     "name": "stdin",
     "output_type": "stream",
     "text": [
      "Enter the Totel: 468\n"
     ]
    },
    {
     "name": "stdout",
     "output_type": "stream",
     "text": [
      "93.60000000000001\n"
     ]
    }
   ],
   "source": [
    "percentage()"
   ]
  },
  {
   "cell_type": "code",
   "execution_count": null,
   "id": "da3f1667-505d-4418-9637-d1a889ea3cf4",
   "metadata": {},
   "outputs": [
    {
     "name": "stdin",
     "output_type": "stream",
     "text": [
      "Enter the Totel: 468\n"
     ]
    }
   ],
   "source": [
    "percentage.division=percentage()"
   ]
  },
  {
   "cell_type": "code",
   "execution_count": null,
   "id": "f7d620c2-656d-4902-9a4a-8db882457fca",
   "metadata": {},
   "outputs": [],
   "source": [
    "#print area and perimeter of triangle using class and functions"
   ]
  },
  {
   "cell_type": "markdown",
   "id": "c6def895-071b-44b1-b2e5-9856cc86dca8",
   "metadata": {},
   "source": [
    "triangle.triangle()"
   ]
  },
  {
   "cell_type": "markdown",
   "id": "543d0516-124d-4d2f-8b64-d8039bce20a5",
   "metadata": {},
   "source": [
    "Height:3\n",
    "Breadth:4\n",
    "Area formula:(Height*Breadth)/2\n",
    "Area of Triangle:6.0\n",
    "Height1:3\n",
    "Height2:4\n",
    "Breadth:45\n",
    "Perameter formula:Height1+Height2+Breadth\n",
    "Perameter of Triangle:52"
   ]
  },
  {
   "cell_type": "code",
   "execution_count": 35,
   "id": "8acc0adc-3d36-4298-92e5-20ab7451245f",
   "metadata": {},
   "outputs": [],
   "source": [
    "lists=[\"Height:3\",\"Breadth:4\"]"
   ]
  },
  {
   "cell_type": "code",
   "execution_count": 36,
   "id": "84432be0-bddc-48dd-96a3-78e788a5ffe2",
   "metadata": {},
   "outputs": [
    {
     "name": "stdout",
     "output_type": "stream",
     "text": [
      "Height:3\n",
      "Breadth:4\n"
     ]
    }
   ],
   "source": [
    "for Areaformula in lists:\n",
    "    print(Areaformula )"
   ]
  },
  {
   "cell_type": "code",
   "execution_count": 37,
   "id": "99e77e33-fbd1-4841-8f6a-3e682a7d0619",
   "metadata": {},
   "outputs": [
    {
     "name": "stdout",
     "output_type": "stream",
     "text": [
      "Area of Triangle: 6.0\n"
     ]
    }
   ],
   "source": [
    "Areaformula=(3*4)/2\n",
    "print(\"Area of Triangle:\",Areaformula)"
   ]
  },
  {
   "cell_type": "code",
   "execution_count": 38,
   "id": "cd15360a-f53d-4aa4-883e-7290e22b1eb2",
   "metadata": {},
   "outputs": [],
   "source": [
    "lists=[\"Height1:3\",\"Height2:4\",\"Breadth:45\"]"
   ]
  },
  {
   "cell_type": "code",
   "execution_count": 39,
   "id": "6488d5fc-45bf-4aae-9817-40108a1ee590",
   "metadata": {},
   "outputs": [
    {
     "name": "stdout",
     "output_type": "stream",
     "text": [
      "Height1:3\n",
      "Height2:4\n",
      "Breadth:45\n"
     ]
    }
   ],
   "source": [
    "for Perameterformula in lists:\n",
    "    print(Perameterformula)"
   ]
  },
  {
   "cell_type": "code",
   "execution_count": 40,
   "id": "d5d26e9e-9164-44e2-83a9-be6d184beb5d",
   "metadata": {},
   "outputs": [],
   "source": [
    "def addition(Height1,Height2,Breadth):\n",
    "    addition=(Height1+Height2+Breadth)\n",
    "    return addition"
   ]
  },
  {
   "cell_type": "code",
   "execution_count": 41,
   "id": "e942c138-d02a-4a91-8a80-93ca1b84f259",
   "metadata": {},
   "outputs": [
    {
     "data": {
      "text/plain": [
       "52"
      ]
     },
     "execution_count": 41,
     "metadata": {},
     "output_type": "execute_result"
    }
   ],
   "source": [
    "addition(3,4,45)"
   ]
  },
  {
   "cell_type": "code",
   "execution_count": 42,
   "id": "1843cd98-0dfc-4c65-8eac-37607c490c2e",
   "metadata": {},
   "outputs": [],
   "source": [
    "def PerameterofTriangle():\n",
    "    num=int(input(\"Perameter of Triangle:\"))\n",
    "    addition=3+4+45\n",
    "    return addition"
   ]
  },
  {
   "cell_type": "code",
   "execution_count": 43,
   "id": "95ae3877-24a3-4b55-8c09-93171247a5ab",
   "metadata": {},
   "outputs": [
    {
     "name": "stdin",
     "output_type": "stream",
     "text": [
      "Perameter of Triangle: 52\n"
     ]
    },
    {
     "data": {
      "text/plain": [
       "52"
      ]
     },
     "execution_count": 43,
     "metadata": {},
     "output_type": "execute_result"
    }
   ],
   "source": [
    "PerameterofTriangle()"
   ]
  },
  {
   "cell_type": "code",
   "execution_count": 44,
   "id": "714ef1f4-cc19-47aa-a109-c04600b62181",
   "metadata": {},
   "outputs": [
    {
     "name": "stdin",
     "output_type": "stream",
     "text": [
      "Perameter of Triangle: 52\n"
     ]
    } ,
    {
     "data": {
      "text/plain": [
       "52"
      ]
     },
     "execution_count": 44,
     "metadata": {},
     "output_type": "execute_result"
    }
   ],
   "source": [
    "addition.addition=PerameterofTriangle()"
   ]
  }
 ],
 "metadata": {
  "kernelspec": {
   "display_name": "Python 3 (ipykernel)",
   "language": "python",
   "name": "python3"
  },
  "language_info": {
   "codemirror_mode": {
    "name": "ipython",
    "version": 3
   },
   "file_extension": ".py",
   "mimetype": "text/x-python",
   "name": "python",
   "nbconvert_exporter": "python",
   "pygments_lexer": "ipython3",
   "version": "3.12.7"
  }
 },
 "nbformat": 4,
 "nbformat_minor": 5
}

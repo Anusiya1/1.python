{
 "cells": [
  {
   "cell_type": "code",
   "execution_count": 1,
   "id": "535eaf46-b42b-441b-8927-8f068cc066e2",
   "metadata": {},
   "outputs": [],
   "source": [
    "#print o to 20 by using range"
   ]
  },
  {
   "cell_type": "code",
   "execution_count": 2,
   "id": "1eae9c48-e669-4eb3-88fa-06870837332a",
   "metadata": {},
   "outputs": [
    {
     "name": "stdout",
     "output_type": "stream",
     "text": [
      "0\n",
      "1\n",
      "2\n",
      "3\n",
      "4\n",
      "5\n",
      "6\n",
      "7\n",
      "8\n",
      "9\n",
      "10\n",
      "11\n",
      "12\n",
      "13\n",
      "14\n",
      "15\n",
      "16\n",
      "17\n",
      "18\n",
      "19\n"
     ]
    }
   ],
   "source": [
    "for num in range (0,20):\n",
    "    print(num)"
   ]
  },
  {
   "cell_type": "code",
   "execution_count": 3,
   "id": "37411440-f153-4fb7-a93e-ad40de5b1c4a",
   "metadata": {},
   "outputs": [],
   "source": [
    "#print range 10 to 20"
   ]
  },
  {
   "cell_type": "code",
   "execution_count": 4,
   "id": "5612b19a-dbdc-466f-a354-6547cf6a7129",
   "metadata": {},
   "outputs": [
    {
     "name": "stdout",
     "output_type": "stream",
     "text": [
      "10,11,12,13,14,15,16,17,18,19,"
     ]
    }
   ],
   "source": [
    "for num in range (10,20):\n",
    "    print(num,end=',')"
   ]
  },
  {
   "cell_type": "code",
   "execution_count": 5,
   "id": "e0839bac-f74f-4d74-b26f-1d749ed90afc",
   "metadata": {},
   "outputs": [],
   "source": [
    "#print number of items in the list by using 'len'"
   ]
  },
  {
   "cell_type": "markdown",
   "id": "bc0c0577-130a-44b6-9e5a-fd0ecdb083d9",
   "metadata": {},
   "source": [
    "[10,20,14,55,43,87,76]\n",
    "num of item in the list2:\n",
    "7"
   ]
  },
  {
   "cell_type": "code",
   "execution_count": 6,
   "id": "6e8e3d27-371e-472d-ae41-261bdfe27efd",
   "metadata": {},
   "outputs": [
    {
     "name": "stdout",
     "output_type": "stream",
     "text": [
      "[10, 20, 14, 55, 43, 87, 76]\n"
     ]
    }
   ],
   "source": [
    "list=[10,20,14,55,43,87,76]\n",
    "print(list)"
   ]
  },
  {
   "cell_type": "code",
   "execution_count": 7,
   "id": "c520de77-edba-40c3-acc6-0803a93143bc",
   "metadata": {},
   "outputs": [
    {
     "name": "stdout",
     "output_type": "stream",
     "text": [
      "7\n"
     ]
    }
   ],
   "source": [
    "print(len(list))"
   ]
  },
  {
   "cell_type": "markdown",
   "id": "f02458a6-cbd6-4fe5-98e7-bfad52461727",
   "metadata": {},
   "source": [
    "Artificial Intelligence"
   ]
  },
  {
   "cell_type": "code",
   "execution_count": 8,
   "id": "d427b6e8-6f91-4b34-939f-1a1798f0f5a3",
   "metadata": {},
   "outputs": [
    {
     "name": "stdout",
     "output_type": "stream",
     "text": [
      "A\n",
      "r\n",
      "t\n",
      "i\n",
      "f\n",
      "i\n",
      "c\n",
      "i\n",
      "a\n",
      "l\n",
      " \n",
      "I\n",
      "n\n",
      "t\n",
      "a\n",
      "l\n",
      "l\n",
      "i\n",
      "g\n",
      "e\n",
      "n\n",
      "c\n",
      "e\n"
     ]
    }
   ],
   "source": [
    "A=\"Artificial Intalligence\"\n",
    "for letter in A:\n",
    "    print(letter)"
   ]
  },
  {
   "cell_type": "markdown",
   "id": "25b50e52-ebda-41a6-9e5d-424851eaa8aa",
   "metadata": {},
   "source": [
    "-Your Name-\n",
    "-Your Age-\n",
    "-Your Profession-"
   ]
  },
  {
   "cell_type": "code",
   "execution_count": 9,
   "id": "30fb2ce4-4fc2-4849-9527-f916b0a5d39b",
   "metadata": {},
   "outputs": [
    {
     "name": "stdout",
     "output_type": "stream",
     "text": [
      "-your Name-\n",
      "-your Age-\n",
      "-your Profession-\n"
     ]
    }
   ],
   "source": [
    "a=\"-your Name-\", \"-your Age-\", \"-your Profession-\"\n",
    "for liste in a:\n",
    "    print(liste)"
   ]
  },
  {
   "cell_type": "code",
   "execution_count": 10,
   "id": "ebe3cdff-5ff6-44eb-967a-a4f0fdd58e8e",
   "metadata": {},
   "outputs": [],
   "source": [
    "#Refer this link: https://www.geeks.org/python-tuples/\n",
    "#print ythis mixered datatype using Tuples"
   ]
  },
  {
   "cell_type": "markdown",
   "id": "de9bf423-b253-41c8-8544-c5c6ea036d71",
   "metadata": {},
   "source": [
    "(1,'welcome',2,'HOPE')"
   ]
  },
  {
   "cell_type": "code",
   "execution_count": 11,
   "id": "91fd298a-1502-4154-b6f5-508c7ac71cb8",
   "metadata": {},
   "outputs": [
    {
     "name": "stdout",
     "output_type": "stream",
     "text": [
      "(1, 'welcome', 2, 'HOPE')\n"
     ]
    }
   ],
   "source": [
    "tup1=(1,'welcome',2, 'HOPE')\n",
    "print(tup1)\n"
   ]
  },
  {
   "cell_type": "markdown",
   "id": "e0bbf4de-35e5-4ad6-a614-20443a2da940",
   "metadata": {},
   "source": [
    "#Refer this link: htt//www.greeks.org/python-tuples/\n",
    "Tuplel=(0,1,2,3),(python', 'HOPE',))"
   ]
  },
  {
   "cell_type": "code",
   "execution_count": 12,
   "id": "0ced0ea7-fbae-4fc2-9e70-e6e3f34b0b29",
   "metadata": {},
   "outputs": [
    {
     "name": "stdout",
     "output_type": "stream",
     "text": [
      "((0, 1, 2, 3), ('python', 'HOPE'))\n"
     ]
    }
   ],
   "source": [
    "Tuplel=(0,1,2,3),('python', 'HOPE',)\n",
    "print(Tuplel)\n"
   ]
  },
  {
   "cell_type": "code",
   "execution_count": 13,
   "id": "0b9acbe2-784a-410d-907a-e2cd22d4c3ea",
   "metadata": {},
   "outputs": [],
   "source": [
    "#print odd numbers in the list"
   ]
  },
  {
   "cell_type": "markdown",
   "id": "bfaf51c1-c9d4-4813-8f3a-75c5a4e3c148",
   "metadata": {},
   "source": [
    "(20,10,16,19,25,1,276,188)\n",
    "19 is odd\n",
    "25 is odd\n",
    "1 is odd"
   ]
  },
  {
   "cell_type": "code",
   "execution_count": 14,
   "id": "22100488-8732-4551-aa71-89566f8bb3d5",
   "metadata": {},
   "outputs": [],
   "source": [
    "lists=[20,10,16,19,25,1,276,188]"
   ]
  },
  {
   "cell_type": "code",
   "execution_count": 15,
   "id": "c1e5af27-293c-4316-b105-4609ff5a354e",
   "metadata": {},
   "outputs": [
    {
     "name": "stdout",
     "output_type": "stream",
     "text": [
      "20\n",
      "10\n",
      "16\n",
      "19\n",
      "25\n",
      "1\n",
      "276\n",
      "188\n"
     ]
    }
   ],
   "source": [
    "for temp in lists:\n",
    "    print(temp)"
   ]
  },
  {
   "cell_type": "code",
   "execution_count": 16,
   "id": "304f4dc0-8109-4d8c-abb9-342b80d92ef0",
   "metadata": {},
   "outputs": [
    {
     "name": "stdout",
     "output_type": "stream",
     "text": [
      "19 is odd \n",
      "25 is odd \n",
      "1 is odd \n"
     ]
    }
   ],
   "source": [
    "for num in lists:\n",
    "  if((num%2)==1):\n",
    "    print(num,\"is odd \")\n",
    "  "
   ]
  },
  {
   "cell_type": "code",
   "execution_count": 17,
   "id": "15444ee9-fa4d-4bb5-80f9-9067296b94a4",
   "metadata": {},
   "outputs": [],
   "source": [
    "#print Even number in the list"
   ]
  },
  {
   "cell_type": "code",
   "execution_count": 18,
   "id": "ebad13b1-038a-41c3-b659-72a44d628cbc",
   "metadata": {},
   "outputs": [],
   "source": [
    "lists=[20,10,16,19,25,1,276,188]"
   ]
  },
  {
   "cell_type": "code",
   "execution_count": 19,
   "id": "704b1519-81f0-463a-b9f0-581587974282",
   "metadata": {},
   "outputs": [
    {
     "name": "stdout",
     "output_type": "stream",
     "text": [
      "20\n",
      "10\n",
      "16\n",
      "19\n",
      "25\n",
      "1\n",
      "276\n",
      "188\n"
     ]
    }
   ],
   "source": [
    "for temp in lists:\n",
    "    print(temp)"
   ]
  },
  {
   "cell_type": "code",
   "execution_count": 21,
   "id": "47ea46c2-a424-48b1-92c0-b2445d22d12e",
   "metadata": {},
   "outputs": [
    {
     "name": "stdin",
     "output_type": "stream",
     "text": [
      "Enter the number: 0\n"
     ]
    }
   ],
   "source": [
    "num=int(input(\"Enter the number:\"))"
   ]
  },
  {
   "cell_type": "code",
   "execution_count": 22,
   "id": "1ac1513b-9f26-4d53-b326-21007bc8becc",
   "metadata": {},
   "outputs": [
    {
     "name": "stdout",
     "output_type": "stream",
     "text": [
      "20 is Even num\n",
      "10 is Even num\n",
      "16 is Even num\n",
      "276 is Even num\n",
      "188 is Even num\n"
     ]
    }
   ],
   "source": [
    "for num in lists:\n",
    "    if((num%2)==0):\n",
    "        print(num,\"is Even num\")"
   ]
  },
  {
   "cell_type": "code",
   "execution_count": null,
   "id": "a516eed6-78b9-4e85-a35f-a3b3821f33e3",
   "metadata": {},
   "outputs": [],
   "source": []
  }
 ],
 "metadata": {
  "kernelspec": {
   "display_name": "Python 3 (ipykernel)",
   "language": "python",
   "name": "python3"
  },
  "language_info": {
   "codemirror_mode": {
    "name": "ipython",
    "version": 3
   },
   "file_extension": ".py",
   "mimetype": "text/x-python",
   "name": "python",
   "nbconvert_exporter": "python",
   "pygments_lexer": "ipython3",
   "version": "3.12.7"
  }
 },
 "nbformat": 4,
 "nbformat_minor": 5
}
